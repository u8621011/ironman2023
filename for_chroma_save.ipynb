{
 "cells": [
  {
   "cell_type": "code",
   "execution_count": 1,
   "metadata": {},
   "outputs": [],
   "source": [
    "from dotenv import load_dotenv, find_dotenv\n",
    "_ = load_dotenv(find_dotenv()) # read local .env file"
   ]
  },
  {
   "cell_type": "code",
   "execution_count": 2,
   "metadata": {},
   "outputs": [],
   "source": [
    "from langchain.document_loaders import SRTLoader\n",
    "from langchain.text_splitter import RecursiveCharacterTextSplitter\n",
    "\n",
    "\n",
    "def load_srt_files_and_split():\n",
    "    # 要讀取的字母清單\n",
    "    srt_files = [\n",
    "        \"srt_files/How to Start a Service Business _ The Journey - English (United States).srt\",\n",
    "        \"srt_files/5 Small Habits That Will Change Your Life Forever - YouTube - English.srt\",\n",
    "        \"srt_files/5 Tips on How to Film a Travel Video with your iPhone - YouTube - English.srt\",\n",
    "        \"srt_files/8 Habits to Help You Live Your Best Life - English.srt\",\n",
    "        \"srt_files/10 Mistakes You Should Avoid in Your Life - YouTube - English.srt\",\n",
    "        \"srt_files/Generative AI for business - YouTube - English.srt\",\n",
    "        \"srt_files/How (And What) To Pack For a Weekend Getaway - English.srt\",\n",
    "        \"srt_files/How to Discover Business Opportunities No One is Seeing - YouTube - English.srt\",\n",
    "        \"srt_files/How to Start a Service Business _ The Journey - English (United States).srt\",\n",
    "        \"srt_files/Learn Your Partner&#39;s Language Fast - Language Learning Tips - YouTube - English.srt\",\n",
    "        \"srt_files/ROAD TRIP SNACKS_ BREAKFAST & LUNCH IDEAS _ Easy & Essential _ Road tripping during a pandemic!! - YouTube - English.srt\",\n",
    "        \"srt_files/SHOPPING IN KOREA🇰🇷 SEOUL travel vlog 2022 - YouTube - English.srt\",\n",
    "        \"srt_files/When learning a new language_ what&#39;s more important_ Grammar or vocabulary_ _ #DailyMIKE 043 - YouTube - English (United States).srt\",\n",
    "        \"srt_files/World Stories to Help You Learn _ practice English with Spotlight - English.srt\",\n",
    "        \"srt_files/🧠The Amazing Language Learning Machine Inside Your Head💗Ep 579 - YouTube - English (United Kingdom).srt\",\n",
    "    ]\n",
    "\n",
    "    # 所以取得出來的 document 的集合\n",
    "    docs = []\n",
    "\n",
    "    for srt_file in srt_files:\n",
    "        loader = SRTLoader(srt_file)\n",
    "        docs += loader.load()\n",
    "\n",
    "    # 切分文本，我們不用單純的 line 分行，因為意義太小了，語義比對應也不會有太大的幫助\n",
    "    text_splitter = RecursiveCharacterTextSplitter(\n",
    "        chunk_size = 300,\n",
    "        chunk_overlap = 0\n",
    "    )\n",
    "\n",
    "    # 切分文本\n",
    "    splitted_documents = text_splitter.split_documents(docs)\n",
    "    print(f'documents:{len(splitted_documents)}')\n",
    "\n",
    "    return splitted_documents\n",
    "\n",
    "def load_document_from_srt_file(srt_file):\n",
    "    loader = SRTLoader(srt_file)\n",
    "\n",
    "    document_loaded = loader.load()\n",
    "    content_lines = document_loaded[0].page_content.splitlines()\n",
    "\n",
    "    return content_lines"
   ]
  },
  {
   "cell_type": "code",
   "execution_count": 3,
   "metadata": {},
   "outputs": [
    {
     "name": "stdout",
     "output_type": "stream",
     "text": [
      "chroma loaded, doc count: 606\n"
     ]
    }
   ],
   "source": [
    "from langchain.vectorstores import Chroma\n",
    "from langchain.embeddings import OpenAIEmbeddings\n",
    "\n",
    "# 試著從 data/chroma_db 讀取 vector database。\n",
    "db_vector = Chroma(persist_directory=\"data/chroma_db\", embedding_function=OpenAIEmbeddings())\n",
    "\n",
    "# 是否已經有資料了？\n",
    "doc_count = db_vector._collection.count()\n",
    "if doc_count == 0:\n",
    "    # 如果沒有資料，就從 srt 檔讀檔案並給加入到 db_vector 裡面\n",
    "    splitted_documents = load_srt_files_and_split()\n",
    "    db_vector.add_documents(splitted_documents)\n",
    "else:    \n",
    "    print(f'chroma loaded, doc count: {doc_count}')"
   ]
  },
  {
   "cell_type": "code",
   "execution_count": 4,
   "metadata": {},
   "outputs": [
    {
     "data": {
      "text/plain": [
       "[Document(page_content=\"videos more interesting and you can really focus on a subject that is doing something and build a story out of it. Now, there could be moments where you're traveling alone, so it's a good idea to\\nmaybe ask the local people if they would like to\", metadata={'source': 'srt_files/5 Tips on How to Film a Travel Video with your iPhone - YouTube - English.srt'}),\n",
       " Document(page_content=\"wear when you travel. And finally, and probably\\nmost importantly, what are you going to be doing\\nwhile you're on that trip? Knowing your itinerary,\\nwhere you're going, where you're eating, the dress code or vibe\\nof each of those things is essential to planning each\", metadata={'source': 'srt_files/How (And What) To Pack For a Weekend Getaway - English.srt'}),\n",
       " Document(page_content=\"out and about road tripping and hiking and stuff for long periods of\\ntime it is so important so of course we are going to have lots\\nand lots of water with us especially when we're in the park when\", metadata={'source': 'srt_files/ROAD TRIP SNACKS_ BREAKFAST & LUNCH IDEAS _ Easy & Essential _ Road tripping during a pandemic!! - YouTube - English.srt'}),\n",
       " Document(page_content=\"specific outfit for your trip. And planning ahead is what\\nthis all really boils down to. Knowing when you're\\ngoing, where you're going, how long you're going\\nfor, how you're traveling, and what you're gonna be doing, makes it so much easier\", metadata={'source': 'srt_files/How (And What) To Pack For a Weekend Getaway - English.srt'})]"
      ]
     },
     "execution_count": 4,
     "metadata": {},
     "output_type": "execute_result"
    }
   ],
   "source": [
    "db_vector.similarity_search('what to do while travel')"
   ]
  },
  {
   "cell_type": "code",
   "execution_count": null,
   "metadata": {},
   "outputs": [],
   "source": []
  }
 ],
 "metadata": {
  "kernelspec": {
   "display_name": "env",
   "language": "python",
   "name": "python3"
  },
  "language_info": {
   "codemirror_mode": {
    "name": "ipython",
    "version": 3
   },
   "file_extension": ".py",
   "mimetype": "text/x-python",
   "name": "python",
   "nbconvert_exporter": "python",
   "pygments_lexer": "ipython3",
   "version": "3.10.11"
  },
  "orig_nbformat": 4
 },
 "nbformat": 4,
 "nbformat_minor": 2
}
